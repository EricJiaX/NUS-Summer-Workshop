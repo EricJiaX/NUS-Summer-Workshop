{
  "nbformat": 4,
  "nbformat_minor": 0,
  "metadata": {
    "colab": {
      "provenance": [],
      "gpuType": "T4"
    },
    "kernelspec": {
      "name": "python3",
      "display_name": "Python 3"
    },
    "language_info": {
      "name": "python"
    },
    "accelerator": "GPU"
  },
  "cells": [
    {
      "cell_type": "code",
      "source": [
        "from google.colab import drive\n",
        "\n",
        "drive.mount('/content/gdrive')"
      ],
      "metadata": {
        "colab": {
          "base_uri": "https://localhost:8080/"
        },
        "id": "uSXg5tqaUudC",
        "outputId": "85caf601-f432-4bcd-ef6e-448a7a4be51a"
      },
      "execution_count": 2,
      "outputs": [
        {
          "output_type": "stream",
          "name": "stdout",
          "text": [
            "Mounted at /content/gdrive\n"
          ]
        }
      ]
    },
    {
      "cell_type": "code",
      "execution_count": 3,
      "metadata": {
        "id": "dSFT0xn8gy7N"
      },
      "outputs": [],
      "source": [
        "from tensorflow.keras.applications.inception_v3 import InceptionV3\n",
        "from tensorflow.keras.preprocessing import image\n",
        "from tensorflow.keras.models import Model,load_model\n",
        "from tensorflow.keras.callbacks import ModelCheckpoint\n",
        "from tensorflow.keras.layers import Dense, GlobalAveragePooling2D\n",
        "from tensorflow.keras.preprocessing.image import ImageDataGenerator\n",
        "from tensorflow.keras.optimizers import SGD\n",
        "import os.path\n",
        "MODEL_FILE =\"flowers.hd5\""
      ]
    },
    {
      "cell_type": "code",
      "source": [
        "def create_model(num_hidden, num_classes):\n",
        "# We get the base model using InceptionV3 and the imagenet\n",
        "# weights that was trained on tens of thousands of images.\n",
        " base_model = InceptionV3(include_top = False, weights = 'imagenet')\n",
        "# Get the output layer, then does an average pooling of this\n",
        "# output, and feeds it to a final Dense layer that we\n",
        "# will train\n",
        " x = base_model.output\n",
        " x = GlobalAveragePooling2D()(x)\n",
        " x = Dense(num_hidden, activation='relu')(x)\n",
        " predictions = Dense(num_classes, activation='softmax')(x)\n",
        "# Set base model layers to be non trainable so we focus\n",
        "# our training only in the Dense layer. This lets us\n",
        "# adapt much faster and doesn't corrupt the weights that\n",
        "# were already trained on imagenet.\n",
        " for layer in base_model.layers:\n",
        "   layer.trainable = False\n",
        "# Create a Functional Model (as opposed to the usual\n",
        "# Sequential Model that we create\n",
        " model = Model(inputs=base_model.input, outputs = predictions)\n",
        " return model"
      ],
      "metadata": {
        "id": "RE9ot2-tjmj7"
      },
      "execution_count": 4,
      "outputs": []
    },
    {
      "cell_type": "code",
      "source": [
        "# Loads an existing model file, then sets only the last\n",
        "# 3 layers (which we added) to trainable.\n",
        "def load_existing(model_file) :\n",
        "# Load the model\n",
        " model = load_model(model_file)\n",
        "# Set only last 3 layers as trainable\n",
        " numlayers = len(model.layers)\n",
        " for layer in model.layers[:numlayers-3]:\n",
        "  layer.trainable = False\n",
        "# Set remaining layers to be trainable.\n",
        " for layer in model.layers[numlayers-3:]:\n",
        "  layer .trainable = True\n",
        " return model"
      ],
      "metadata": {
        "id": "gqETM7oDlN8d"
      },
      "execution_count": 5,
      "outputs": []
    },
    {
      "cell_type": "code",
      "source": [
        "def train(model_file,train_path,validation_path,num_hidden=200,num_classes=5,steps=32,num_epochs=20):\n",
        "# If an existing model exists, we load it. Otherwise we create a\n",
        "# new model from scratch\n",
        " if os.path.exists(model_file):\n",
        "  print(\"\\n*** Existing model found at %s. Loading.***\\n\\n\" % model_file)\n",
        "  model = load_existing(model_file)\n",
        " else:\n",
        "  print(\"\\n*** Creating new model ***\\n\\n\")\n",
        "  model = create_model(num_hidden, num_classes)\n",
        "# Since we have multiple categories and a softmax output\n",
        " model.compile(optimizer='rmsprop', loss='categorical_crossentropy')\n",
        "# Create a checkpoint to save the model after every epo\n",
        " checkpoint = ModelCheckpoint(model_file)\n",
        "# Now we create a generator. This will take our image data, rescale it.\n",
        "# shear it, zoom in and out to create additional images for training.\n",
        " train_datagen = ImageDataGenerator(\\\n",
        " rescale=1./255,\\\n",
        " shear_range=0.2,\\\n",
        " zoom_range=0.2,horizontal_flip = True)\n",
        "# Image generator for test data\n",
        " test_datagen = ImageDataGenerator(rescale=1./255)\n",
        " train_generator = train_datagen.flow_from_directory(\\\n",
        " train_path,\\\n",
        " target_size=(249,249),\n",
        " batch_size=5,\n",
        " class_mode =\"categorical\")\n",
        "# We do the same for the validation set .\n",
        " validation_generator  = test_datagen.flow_from_directory(\\\n",
        " validation_path,\\\n",
        " target_size=(249,249),\n",
        " batch_size=5,\n",
        " class_mode =\"categorical\")\n",
        "\n",
        "# Finally we train the neural network\n",
        " model.fit(\\\n",
        " train_generator,\\\n",
        " steps_per_epoch = steps,\\\n",
        " epochs =num_epochs,\\\n",
        " callbacks = [checkpoint],\\\n",
        " validation_data= validation_generator,\\\n",
        " validation_steps = 50)\n",
        "# Train last two layers\n",
        "# Now we twek the training by freezing almost all the layers and\n",
        "# just train the topmost layer\n",
        " for layer  in model.layers[:249]:\n",
        "   layer.trainable = False\n",
        " for layer in model.layers[249:]:\n",
        "   layer .trainable = True\n",
        "\n",
        " model.compile(optimizer=SGD(learning_rate=0.00001, momentum=0.9), loss='categorical_crossentropy')\n",
        " model.fit(\\\n",
        " train_generator,\\\n",
        " steps_per_epoch=steps,\\\n",
        " epochs = num_epochs,\\\n",
        " callbacks = [checkpoint],\\\n",
        " validation_data = validation_generator,\\\n",
        " validation_steps = 50)"
      ],
      "metadata": {
        "id": "A4emErK6lN3K"
      },
      "execution_count": 6,
      "outputs": []
    },
    {
      "cell_type": "code",
      "source": [
        "def main() :\n",
        "  train(MODEL_FILE,train_path=\"/content/gdrive/My Drive/data/flower_photos\",\n",
        "        validation_path=\"/content/gdrive/My Drive/data/flower_photos\",steps=120,num_epochs=10)\n",
        "if __name__ == \"__main__\":\n",
        "  main()"
      ],
      "metadata": {
        "colab": {
          "base_uri": "https://localhost:8080/"
        },
        "id": "-BaC93PBPhNq",
        "outputId": "f72d38fe-da7d-4abe-e781-ecc8fceff404"
      },
      "execution_count": 7,
      "outputs": [
        {
          "output_type": "stream",
          "name": "stdout",
          "text": [
            "\n",
            "*** Creating new model ***\n",
            "\n",
            "\n",
            "Downloading data from https://storage.googleapis.com/tensorflow/keras-applications/inception_v3/inception_v3_weights_tf_dim_ordering_tf_kernels_notop.h5\n",
            "87910968/87910968 [==============================] - 0s 0us/step\n",
            "Found 860 images belonging to 5 classes.\n",
            "Found 860 images belonging to 5 classes.\n",
            "Epoch 1/10\n",
            "120/120 [==============================] - ETA: 0s - loss: 0.3171"
          ]
        },
        {
          "output_type": "stream",
          "name": "stderr",
          "text": [
            "WARNING:absl:Found untraced functions such as _jit_compiled_convolution_op, _jit_compiled_convolution_op, _jit_compiled_convolution_op, _jit_compiled_convolution_op, _jit_compiled_convolution_op while saving (showing 5 of 94). These functions will not be directly callable after loading.\n"
          ]
        },
        {
          "output_type": "stream",
          "name": "stdout",
          "text": [
            "\b\b\b\b\b\b\b\b\b\b\b\b\b\b\b\b\b\b\b\b\b\b\b\b\b\b\b\b\b\b\b\b\b\b\b\b\b\b\b\b\b\b\b\b\b\b\b\b\b\b\b\b\b\b\b\b\b\b\b\b\b\b\b\b\b\r120/120 [==============================] - 84s 505ms/step - loss: 0.3171 - val_loss: 0.1201\n",
            "Epoch 2/10\n",
            "120/120 [==============================] - ETA: 0s - loss: 0.1057"
          ]
        },
        {
          "output_type": "stream",
          "name": "stderr",
          "text": [
            "WARNING:absl:Found untraced functions such as _jit_compiled_convolution_op, _jit_compiled_convolution_op, _jit_compiled_convolution_op, _jit_compiled_convolution_op, _jit_compiled_convolution_op while saving (showing 5 of 94). These functions will not be directly callable after loading.\n"
          ]
        },
        {
          "output_type": "stream",
          "name": "stdout",
          "text": [
            "\b\b\b\b\b\b\b\b\b\b\b\b\b\b\b\b\b\b\b\b\b\b\b\b\b\b\b\b\b\b\b\b\b\b\b\b\b\b\b\b\b\b\b\b\b\b\b\b\b\b\b\b\b\b\b\b\b\b\b\b\b\b\b\b\b\r120/120 [==============================] - 47s 395ms/step - loss: 0.1057 - val_loss: 0.1028\n",
            "Epoch 3/10\n",
            "120/120 [==============================] - ETA: 0s - loss: 0.1553"
          ]
        },
        {
          "output_type": "stream",
          "name": "stderr",
          "text": [
            "WARNING:absl:Found untraced functions such as _jit_compiled_convolution_op, _jit_compiled_convolution_op, _jit_compiled_convolution_op, _jit_compiled_convolution_op, _jit_compiled_convolution_op while saving (showing 5 of 94). These functions will not be directly callable after loading.\n"
          ]
        },
        {
          "output_type": "stream",
          "name": "stdout",
          "text": [
            "\b\b\b\b\b\b\b\b\b\b\b\b\b\b\b\b\b\b\b\b\b\b\b\b\b\b\b\b\b\b\b\b\b\b\b\b\b\b\b\b\b\b\b\b\b\b\b\b\b\b\b\b\b\b\b\b\b\b\b\b\b\b\b\b\b\r120/120 [==============================] - 45s 379ms/step - loss: 0.1553 - val_loss: 0.0547\n",
            "Epoch 4/10\n",
            "120/120 [==============================] - ETA: 0s - loss: 0.1144"
          ]
        },
        {
          "output_type": "stream",
          "name": "stderr",
          "text": [
            "WARNING:absl:Found untraced functions such as _jit_compiled_convolution_op, _jit_compiled_convolution_op, _jit_compiled_convolution_op, _jit_compiled_convolution_op, _jit_compiled_convolution_op while saving (showing 5 of 94). These functions will not be directly callable after loading.\n"
          ]
        },
        {
          "output_type": "stream",
          "name": "stdout",
          "text": [
            "\b\b\b\b\b\b\b\b\b\b\b\b\b\b\b\b\b\b\b\b\b\b\b\b\b\b\b\b\b\b\b\b\b\b\b\b\b\b\b\b\b\b\b\b\b\b\b\b\b\b\b\b\b\b\b\b\b\b\b\b\b\b\b\b\b\r120/120 [==============================] - 46s 388ms/step - loss: 0.1144 - val_loss: 0.0514\n",
            "Epoch 5/10\n",
            "120/120 [==============================] - ETA: 0s - loss: 0.1121"
          ]
        },
        {
          "output_type": "stream",
          "name": "stderr",
          "text": [
            "WARNING:absl:Found untraced functions such as _jit_compiled_convolution_op, _jit_compiled_convolution_op, _jit_compiled_convolution_op, _jit_compiled_convolution_op, _jit_compiled_convolution_op while saving (showing 5 of 94). These functions will not be directly callable after loading.\n"
          ]
        },
        {
          "output_type": "stream",
          "name": "stdout",
          "text": [
            "\b\b\b\b\b\b\b\b\b\b\b\b\b\b\b\b\b\b\b\b\b\b\b\b\b\b\b\b\b\b\b\b\b\b\b\b\b\b\b\b\b\b\b\b\b\b\b\b\b\b\b\b\b\b\b\b\b\b\b\b\b\b\b\b\b\r120/120 [==============================] - 45s 373ms/step - loss: 0.1121 - val_loss: 0.0521\n",
            "Epoch 6/10\n",
            "120/120 [==============================] - ETA: 0s - loss: 0.1082"
          ]
        },
        {
          "output_type": "stream",
          "name": "stderr",
          "text": [
            "WARNING:absl:Found untraced functions such as _jit_compiled_convolution_op, _jit_compiled_convolution_op, _jit_compiled_convolution_op, _jit_compiled_convolution_op, _jit_compiled_convolution_op while saving (showing 5 of 94). These functions will not be directly callable after loading.\n"
          ]
        },
        {
          "output_type": "stream",
          "name": "stdout",
          "text": [
            "\b\b\b\b\b\b\b\b\b\b\b\b\b\b\b\b\b\b\b\b\b\b\b\b\b\b\b\b\b\b\b\b\b\b\b\b\b\b\b\b\b\b\b\b\b\b\b\b\b\b\b\b\b\b\b\b\b\b\b\b\b\b\b\b\b\r120/120 [==============================] - 46s 383ms/step - loss: 0.1082 - val_loss: 0.0441\n",
            "Epoch 7/10\n",
            "120/120 [==============================] - ETA: 0s - loss: 0.0569"
          ]
        },
        {
          "output_type": "stream",
          "name": "stderr",
          "text": [
            "WARNING:absl:Found untraced functions such as _jit_compiled_convolution_op, _jit_compiled_convolution_op, _jit_compiled_convolution_op, _jit_compiled_convolution_op, _jit_compiled_convolution_op while saving (showing 5 of 94). These functions will not be directly callable after loading.\n"
          ]
        },
        {
          "output_type": "stream",
          "name": "stdout",
          "text": [
            "\b\b\b\b\b\b\b\b\b\b\b\b\b\b\b\b\b\b\b\b\b\b\b\b\b\b\b\b\b\b\b\b\b\b\b\b\b\b\b\b\b\b\b\b\b\b\b\b\b\b\b\b\b\b\b\b\b\b\b\b\b\b\b\b\b\r120/120 [==============================] - 46s 386ms/step - loss: 0.0569 - val_loss: 0.0100\n",
            "Epoch 8/10\n",
            "120/120 [==============================] - ETA: 0s - loss: 0.0557"
          ]
        },
        {
          "output_type": "stream",
          "name": "stderr",
          "text": [
            "WARNING:absl:Found untraced functions such as _jit_compiled_convolution_op, _jit_compiled_convolution_op, _jit_compiled_convolution_op, _jit_compiled_convolution_op, _jit_compiled_convolution_op while saving (showing 5 of 94). These functions will not be directly callable after loading.\n"
          ]
        },
        {
          "output_type": "stream",
          "name": "stdout",
          "text": [
            "\b\b\b\b\b\b\b\b\b\b\b\b\b\b\b\b\b\b\b\b\b\b\b\b\b\b\b\b\b\b\b\b\b\b\b\b\b\b\b\b\b\b\b\b\b\b\b\b\b\b\b\b\b\b\b\b\b\b\b\b\b\b\b\b\b\r120/120 [==============================] - 45s 379ms/step - loss: 0.0557 - val_loss: 0.0015\n",
            "Epoch 9/10\n",
            "120/120 [==============================] - ETA: 0s - loss: 0.0507"
          ]
        },
        {
          "output_type": "stream",
          "name": "stderr",
          "text": [
            "WARNING:absl:Found untraced functions such as _jit_compiled_convolution_op, _jit_compiled_convolution_op, _jit_compiled_convolution_op, _jit_compiled_convolution_op, _jit_compiled_convolution_op while saving (showing 5 of 94). These functions will not be directly callable after loading.\n"
          ]
        },
        {
          "output_type": "stream",
          "name": "stdout",
          "text": [
            "\b\b\b\b\b\b\b\b\b\b\b\b\b\b\b\b\b\b\b\b\b\b\b\b\b\b\b\b\b\b\b\b\b\b\b\b\b\b\b\b\b\b\b\b\b\b\b\b\b\b\b\b\b\b\b\b\b\b\b\b\b\b\b\b\b\r120/120 [==============================] - 48s 399ms/step - loss: 0.0507 - val_loss: 0.0011\n",
            "Epoch 10/10\n",
            "120/120 [==============================] - ETA: 0s - loss: 0.0341"
          ]
        },
        {
          "output_type": "stream",
          "name": "stderr",
          "text": [
            "WARNING:absl:Found untraced functions such as _jit_compiled_convolution_op, _jit_compiled_convolution_op, _jit_compiled_convolution_op, _jit_compiled_convolution_op, _jit_compiled_convolution_op while saving (showing 5 of 94). These functions will not be directly callable after loading.\n"
          ]
        },
        {
          "output_type": "stream",
          "name": "stdout",
          "text": [
            "\b\b\b\b\b\b\b\b\b\b\b\b\b\b\b\b\b\b\b\b\b\b\b\b\b\b\b\b\b\b\b\b\b\b\b\b\b\b\b\b\b\b\b\b\b\b\b\b\b\b\b\b\b\b\b\b\b\b\b\b\b\b\b\b\b\r120/120 [==============================] - 46s 382ms/step - loss: 0.0341 - val_loss: 0.0345\n",
            "Epoch 1/10\n",
            "120/120 [==============================] - ETA: 0s - loss: 0.0954"
          ]
        },
        {
          "output_type": "stream",
          "name": "stderr",
          "text": [
            "WARNING:absl:Found untraced functions such as _jit_compiled_convolution_op, _jit_compiled_convolution_op, _jit_compiled_convolution_op, _jit_compiled_convolution_op, _jit_compiled_convolution_op while saving (showing 5 of 94). These functions will not be directly callable after loading.\n"
          ]
        },
        {
          "output_type": "stream",
          "name": "stdout",
          "text": [
            "\b\b\b\b\b\b\b\b\b\b\b\b\b\b\b\b\b\b\b\b\b\b\b\b\b\b\b\b\b\b\b\b\b\b\b\b\b\b\b\b\b\b\b\b\b\b\b\b\b\b\b\b\b\b\b\b\b\b\b\b\b\b\b\b\b\r120/120 [==============================] - 56s 393ms/step - loss: 0.0954 - val_loss: 0.0023\n",
            "Epoch 2/10\n",
            "120/120 [==============================] - ETA: 0s - loss: 0.0990"
          ]
        },
        {
          "output_type": "stream",
          "name": "stderr",
          "text": [
            "WARNING:absl:Found untraced functions such as _jit_compiled_convolution_op, _jit_compiled_convolution_op, _jit_compiled_convolution_op, _jit_compiled_convolution_op, _jit_compiled_convolution_op while saving (showing 5 of 94). These functions will not be directly callable after loading.\n"
          ]
        },
        {
          "output_type": "stream",
          "name": "stdout",
          "text": [
            "\b\b\b\b\b\b\b\b\b\b\b\b\b\b\b\b\b\b\b\b\b\b\b\b\b\b\b\b\b\b\b\b\b\b\b\b\b\b\b\b\b\b\b\b\b\b\b\b\b\b\b\b\b\b\b\b\b\b\b\b\b\b\b\b\b\r120/120 [==============================] - 47s 390ms/step - loss: 0.0990 - val_loss: 0.0336\n",
            "Epoch 3/10\n",
            "120/120 [==============================] - ETA: 0s - loss: 0.0747"
          ]
        },
        {
          "output_type": "stream",
          "name": "stderr",
          "text": [
            "WARNING:absl:Found untraced functions such as _jit_compiled_convolution_op, _jit_compiled_convolution_op, _jit_compiled_convolution_op, _jit_compiled_convolution_op, _jit_compiled_convolution_op while saving (showing 5 of 94). These functions will not be directly callable after loading.\n"
          ]
        },
        {
          "output_type": "stream",
          "name": "stdout",
          "text": [
            "\b\b\b\b\b\b\b\b\b\b\b\b\b\b\b\b\b\b\b\b\b\b\b\b\b\b\b\b\b\b\b\b\b\b\b\b\b\b\b\b\b\b\b\b\b\b\b\b\b\b\b\b\b\b\b\b\b\b\b\b\b\b\b\b\b\r120/120 [==============================] - 46s 384ms/step - loss: 0.0747 - val_loss: 0.0459\n",
            "Epoch 4/10\n",
            "120/120 [==============================] - ETA: 0s - loss: 0.0908"
          ]
        },
        {
          "output_type": "stream",
          "name": "stderr",
          "text": [
            "WARNING:absl:Found untraced functions such as _jit_compiled_convolution_op, _jit_compiled_convolution_op, _jit_compiled_convolution_op, _jit_compiled_convolution_op, _jit_compiled_convolution_op while saving (showing 5 of 94). These functions will not be directly callable after loading.\n"
          ]
        },
        {
          "output_type": "stream",
          "name": "stdout",
          "text": [
            "\b\b\b\b\b\b\b\b\b\b\b\b\b\b\b\b\b\b\b\b\b\b\b\b\b\b\b\b\b\b\b\b\b\b\b\b\b\b\b\b\b\b\b\b\b\b\b\b\b\b\b\b\b\b\b\b\b\b\b\b\b\b\b\b\b\r120/120 [==============================] - 48s 406ms/step - loss: 0.0908 - val_loss: 0.0105\n",
            "Epoch 5/10\n",
            "120/120 [==============================] - ETA: 0s - loss: 0.0558"
          ]
        },
        {
          "output_type": "stream",
          "name": "stderr",
          "text": [
            "WARNING:absl:Found untraced functions such as _jit_compiled_convolution_op, _jit_compiled_convolution_op, _jit_compiled_convolution_op, _jit_compiled_convolution_op, _jit_compiled_convolution_op while saving (showing 5 of 94). These functions will not be directly callable after loading.\n"
          ]
        },
        {
          "output_type": "stream",
          "name": "stdout",
          "text": [
            "\b\b\b\b\b\b\b\b\b\b\b\b\b\b\b\b\b\b\b\b\b\b\b\b\b\b\b\b\b\b\b\b\b\b\b\b\b\b\b\b\b\b\b\b\b\b\b\b\b\b\b\b\b\b\b\b\b\b\b\b\b\b\b\b\b\r120/120 [==============================] - 47s 396ms/step - loss: 0.0558 - val_loss: 0.0057\n",
            "Epoch 6/10\n",
            "120/120 [==============================] - ETA: 0s - loss: 0.0450"
          ]
        },
        {
          "output_type": "stream",
          "name": "stderr",
          "text": [
            "WARNING:absl:Found untraced functions such as _jit_compiled_convolution_op, _jit_compiled_convolution_op, _jit_compiled_convolution_op, _jit_compiled_convolution_op, _jit_compiled_convolution_op while saving (showing 5 of 94). These functions will not be directly callable after loading.\n"
          ]
        },
        {
          "output_type": "stream",
          "name": "stdout",
          "text": [
            "\b\b\b\b\b\b\b\b\b\b\b\b\b\b\b\b\b\b\b\b\b\b\b\b\b\b\b\b\b\b\b\b\b\b\b\b\b\b\b\b\b\b\b\b\b\b\b\b\b\b\b\b\b\b\b\b\b\b\b\b\b\b\b\b\b\r120/120 [==============================] - 46s 386ms/step - loss: 0.0450 - val_loss: 0.0146\n",
            "Epoch 7/10\n",
            "120/120 [==============================] - ETA: 0s - loss: 0.0339"
          ]
        },
        {
          "output_type": "stream",
          "name": "stderr",
          "text": [
            "WARNING:absl:Found untraced functions such as _jit_compiled_convolution_op, _jit_compiled_convolution_op, _jit_compiled_convolution_op, _jit_compiled_convolution_op, _jit_compiled_convolution_op while saving (showing 5 of 94). These functions will not be directly callable after loading.\n"
          ]
        },
        {
          "output_type": "stream",
          "name": "stdout",
          "text": [
            "\b\b\b\b\b\b\b\b\b\b\b\b\b\b\b\b\b\b\b\b\b\b\b\b\b\b\b\b\b\b\b\b\b\b\b\b\b\b\b\b\b\b\b\b\b\b\b\b\b\b\b\b\b\b\b\b\b\b\b\b\b\b\b\b\b\r120/120 [==============================] - 47s 395ms/step - loss: 0.0339 - val_loss: 0.0270\n",
            "Epoch 8/10\n",
            "120/120 [==============================] - ETA: 0s - loss: 0.0373"
          ]
        },
        {
          "output_type": "stream",
          "name": "stderr",
          "text": [
            "WARNING:absl:Found untraced functions such as _jit_compiled_convolution_op, _jit_compiled_convolution_op, _jit_compiled_convolution_op, _jit_compiled_convolution_op, _jit_compiled_convolution_op while saving (showing 5 of 94). These functions will not be directly callable after loading.\n"
          ]
        },
        {
          "output_type": "stream",
          "name": "stdout",
          "text": [
            "\b\b\b\b\b\b\b\b\b\b\b\b\b\b\b\b\b\b\b\b\b\b\b\b\b\b\b\b\b\b\b\b\b\b\b\b\b\b\b\b\b\b\b\b\b\b\b\b\b\b\b\b\b\b\b\b\b\b\b\b\b\b\b\b\b\r120/120 [==============================] - 48s 401ms/step - loss: 0.0373 - val_loss: 0.0744\n",
            "Epoch 9/10\n",
            "120/120 [==============================] - ETA: 0s - loss: 0.0616"
          ]
        },
        {
          "output_type": "stream",
          "name": "stderr",
          "text": [
            "WARNING:absl:Found untraced functions such as _jit_compiled_convolution_op, _jit_compiled_convolution_op, _jit_compiled_convolution_op, _jit_compiled_convolution_op, _jit_compiled_convolution_op while saving (showing 5 of 94). These functions will not be directly callable after loading.\n"
          ]
        },
        {
          "output_type": "stream",
          "name": "stdout",
          "text": [
            "\b\b\b\b\b\b\b\b\b\b\b\b\b\b\b\b\b\b\b\b\b\b\b\b\b\b\b\b\b\b\b\b\b\b\b\b\b\b\b\b\b\b\b\b\b\b\b\b\b\b\b\b\b\b\b\b\b\b\b\b\b\b\b\b\b\r120/120 [==============================] - 46s 384ms/step - loss: 0.0616 - val_loss: 0.0532\n",
            "Epoch 10/10\n",
            "120/120 [==============================] - ETA: 0s - loss: 0.0317"
          ]
        },
        {
          "output_type": "stream",
          "name": "stderr",
          "text": [
            "WARNING:absl:Found untraced functions such as _jit_compiled_convolution_op, _jit_compiled_convolution_op, _jit_compiled_convolution_op, _jit_compiled_convolution_op, _jit_compiled_convolution_op while saving (showing 5 of 94). These functions will not be directly callable after loading.\n"
          ]
        },
        {
          "output_type": "stream",
          "name": "stdout",
          "text": [
            "\b\b\b\b\b\b\b\b\b\b\b\b\b\b\b\b\b\b\b\b\b\b\b\b\b\b\b\b\b\b\b\b\b\b\b\b\b\b\b\b\b\b\b\b\b\b\b\b\b\b\b\b\b\b\b\b\b\b\b\b\b\b\b\b\b\r120/120 [==============================] - 46s 388ms/step - loss: 0.0317 - val_loss: 0.0577\n"
          ]
        }
      ]
    }
  ]
}